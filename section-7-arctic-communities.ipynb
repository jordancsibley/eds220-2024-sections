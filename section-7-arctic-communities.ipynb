{
 "cells": [
  {
   "cell_type": "markdown",
   "id": "717e9ab4-aa7e-41f8-b305-a542a753e4be",
   "metadata": {},
   "source": [
    "# Arctic regions geospatial wrangling \n",
    "### Week 7 Discussion Section \n",
    "\n",
    "Date: 2024-11-14\n",
    "\n",
    "\n",
    "## Data \n",
    "\n",
    "This data includes the locations of arctic communities across the world. The data is found in the `data/` directory for the 220 class within workbench-1 "
   ]
  },
  {
   "cell_type": "code",
   "execution_count": 3,
   "id": "16b2b4a0-dfc9-4880-b524-da2e5539e7b1",
   "metadata": {
    "tags": []
   },
   "outputs": [],
   "source": [
    "# Import libraries \n",
    "import pandas as pd \n",
    "import geopandas as gpd \n",
    "import os "
   ]
  },
  {
   "cell_type": "code",
   "execution_count": 4,
   "id": "17bd9541-956d-4048-88b6-9f81ffa9e11b",
   "metadata": {
    "tags": []
   },
   "outputs": [],
   "source": [
    "\"\"\"\n",
    "Set environment variable 'PROJ_LIB' to specify the path for the PROJ library\n",
    "Resolves ERROR 1: PROJ: proj_create_from_database\n",
    "\"\"\"\"\"\n",
    "os.environ['PROJ_LIB'] = '/opt/anaconda3/share/proj'\n",
    "\n",
    "df =  gpd.read_file(\"data/arctic_communities.geojson\")"
   ]
  }
 ],
 "metadata": {
  "kernelspec": {
   "display_name": "Anaconda 3 (EDS220)",
   "language": "python",
   "name": "eds220-env"
  },
  "language_info": {
   "codemirror_mode": {
    "name": "ipython",
    "version": 3
   },
   "file_extension": ".py",
   "mimetype": "text/x-python",
   "name": "python",
   "nbconvert_exporter": "python",
   "pygments_lexer": "ipython3",
   "version": "3.11.4"
  }
 },
 "nbformat": 4,
 "nbformat_minor": 5
}
