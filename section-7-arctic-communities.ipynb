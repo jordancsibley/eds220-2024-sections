{
 "cells": [
  {
   "cell_type": "markdown",
   "id": "717e9ab4-aa7e-41f8-b305-a542a753e4be",
   "metadata": {},
   "source": [
    "# Arctic regions geospatial wrangling \n",
    "### Week 7 Discussion Section \n",
    "\n",
    "Date: 2024-11-14\n",
    "\n",
    "\n",
    "## Data \n",
    "\n",
    "This data includes the locations of arctic communities across the world. The data is found in the `data/` directory for the 220 class within workbench-1 "
   ]
  },
  {
   "cell_type": "code",
   "execution_count": 3,
   "id": "16b2b4a0-dfc9-4880-b524-da2e5539e7b1",
   "metadata": {
    "tags": []
   },
   "outputs": [],
   "source": [
    "# Import libraries \n",
    "import pandas as pd \n",
    "import geopandas as gpd \n",
    "import os "
   ]
  },
  {
   "cell_type": "code",
   "execution_count": 5,
   "id": "17bd9541-956d-4048-88b6-9f81ffa9e11b",
   "metadata": {
    "tags": []
   },
   "outputs": [],
   "source": [
    "\"\"\"\n",
    "Set environment variable 'PROJ_LIB' to specify the path for the PROJ library\n",
    "Resolves ERROR 1: PROJ: proj_create_from_database\n",
    "\"\"\"\"\"\n",
    "os.environ['PROJ_LIB'] = '/opt/anaconda3/share/proj'\n",
    "\n",
    "df =  gpd.read_file(\"data/arctic_communities.geojson\")"
   ]
  },
  {
   "cell_type": "code",
   "execution_count": 6,
   "id": "fe92eec0-f3cc-4b52-98b4-f38bee104c60",
   "metadata": {
    "tags": []
   },
   "outputs": [
    {
     "data": {
      "text/html": [
       "<div>\n",
       "<style scoped>\n",
       "    .dataframe tbody tr th:only-of-type {\n",
       "        vertical-align: middle;\n",
       "    }\n",
       "\n",
       "    .dataframe tbody tr th {\n",
       "        vertical-align: top;\n",
       "    }\n",
       "\n",
       "    .dataframe thead th {\n",
       "        text-align: right;\n",
       "    }\n",
       "</style>\n",
       "<table border=\"1\" class=\"dataframe\">\n",
       "  <thead>\n",
       "    <tr style=\"text-align: right;\">\n",
       "      <th></th>\n",
       "      <th>admin</th>\n",
       "      <th>country</th>\n",
       "      <th>n_communities</th>\n",
       "      <th>geometry</th>\n",
       "    </tr>\n",
       "  </thead>\n",
       "  <tbody>\n",
       "    <tr>\n",
       "      <th>0</th>\n",
       "      <td>United States of America</td>\n",
       "      <td>US</td>\n",
       "      <td>115</td>\n",
       "      <td>MULTIPOLYGON (((-132.74687 56.52568, -132.7576...</td>\n",
       "    </tr>\n",
       "    <tr>\n",
       "      <th>1</th>\n",
       "      <td>United Kingdom</td>\n",
       "      <td>GB</td>\n",
       "      <td>96</td>\n",
       "      <td>MULTIPOLYGON (((-2.66768 51.62300, -2.74214 51...</td>\n",
       "    </tr>\n",
       "    <tr>\n",
       "      <th>2</th>\n",
       "      <td>Sweden</td>\n",
       "      <td>SE</td>\n",
       "      <td>133</td>\n",
       "      <td>MULTIPOLYGON (((19.07646 57.83594, 18.99375 57...</td>\n",
       "    </tr>\n",
       "    <tr>\n",
       "      <th>3</th>\n",
       "      <td>Russia</td>\n",
       "      <td>RU</td>\n",
       "      <td>774</td>\n",
       "      <td>MULTIPOLYGON (((145.88154 43.45952, 145.89561 ...</td>\n",
       "    </tr>\n",
       "    <tr>\n",
       "      <th>4</th>\n",
       "      <td>Norway</td>\n",
       "      <td>NO</td>\n",
       "      <td>48</td>\n",
       "      <td>MULTIPOLYGON (((20.62217 69.03687, 20.49199 69...</td>\n",
       "    </tr>\n",
       "  </tbody>\n",
       "</table>\n",
       "</div>"
      ],
      "text/plain": [
       "                      admin country  n_communities  \\\n",
       "0  United States of America      US            115   \n",
       "1            United Kingdom      GB             96   \n",
       "2                    Sweden      SE            133   \n",
       "3                    Russia      RU            774   \n",
       "4                    Norway      NO             48   \n",
       "\n",
       "                                            geometry  \n",
       "0  MULTIPOLYGON (((-132.74687 56.52568, -132.7576...  \n",
       "1  MULTIPOLYGON (((-2.66768 51.62300, -2.74214 51...  \n",
       "2  MULTIPOLYGON (((19.07646 57.83594, 18.99375 57...  \n",
       "3  MULTIPOLYGON (((145.88154 43.45952, 145.89561 ...  \n",
       "4  MULTIPOLYGON (((20.62217 69.03687, 20.49199 69...  "
      ]
     },
     "execution_count": 6,
     "metadata": {},
     "output_type": "execute_result"
    }
   ],
   "source": [
    "df.head()"
   ]
  },
  {
   "cell_type": "code",
   "execution_count": 26,
   "id": "0ecff17e-e6eb-4a51-921a-3620848fa9c9",
   "metadata": {
    "tags": []
   },
   "outputs": [
    {
     "data": {
      "text/plain": [
       "<Axes: >"
      ]
     },
     "execution_count": 26,
     "metadata": {},
     "output_type": "execute_result"
    },
    {
     "data": {
      "image/png": "[encoded data removed]",
      "text/plain": [
       "<Figure size 640x480 with 1 Axes>"
      ]
     },
     "metadata": {},
     "output_type": "display_data"
    }
   ],
   "source": [
    "df.plot()"
   ]
  },
  {
   "cell_type": "code",
   "execution_count": 7,
   "id": "0fc89567-00fd-478a-be2f-d0702f69346b",
   "metadata": {
    "tags": []
   },
   "outputs": [
    {
     "data": {
      "text/plain": [
       "0     MultiPolygon\n",
       "1     MultiPolygon\n",
       "2     MultiPolygon\n",
       "3     MultiPolygon\n",
       "4     MultiPolygon\n",
       "5     MultiPolygon\n",
       "6          Polygon\n",
       "7          Polygon\n",
       "8     MultiPolygon\n",
       "9     MultiPolygon\n",
       "10    MultiPolygon\n",
       "11    MultiPolygon\n",
       "12    MultiPolygon\n",
       "13    MultiPolygon\n",
       "14         Polygon\n",
       "dtype: object"
      ]
     },
     "execution_count": 7,
     "metadata": {},
     "output_type": "execute_result"
    }
   ],
   "source": [
    "# Check geometries \n",
    "df.geom_type"
   ]
  },
  {
   "cell_type": "markdown",
   "id": "2df06118-75d5-44cd-b860-fb99ea1344d0",
   "metadata": {},
   "source": [
    "It seems that the majority of the geometries are multipolygon while 3 are type polygon. "
   ]
  },
  {
   "cell_type": "code",
   "execution_count": 27,
   "id": "a146a15a-c323-4710-979e-ed96602166bb",
   "metadata": {
    "tags": []
   },
   "outputs": [],
   "source": [
    "def check_polygons(shapes):\n",
    "    if shapes.geom_type.unique()[0] == 'Polygon' and len(shapes.geom_type.unique()) == 1:\n",
    "            print(f\"All features are polygons\")\n",
    "    else: \n",
    "        print(f\"multiple feature types:\". shapes.geom_type.unique().tolist())"
   ]
  },
  {
   "cell_type": "code",
   "execution_count": 28,
   "id": "676bae5b-f2d2-439e-bc04-0a9f82471423",
   "metadata": {
    "tags": []
   },
   "outputs": [
    {
     "name": "stdout",
     "output_type": "stream",
     "text": [
      "All features are polygons\n"
     ]
    }
   ],
   "source": [
    "check_polygons(df)"
   ]
  },
  {
   "cell_type": "markdown",
   "id": "143bd4b3-8263-4831-8421-c7270895f8fa",
   "metadata": {},
   "source": [
    "## Explode polygons \n"
   ]
  },
  {
   "cell_type": "code",
   "execution_count": 24,
   "id": "c4e372ab-06ee-4599-a340-49a9df89a874",
   "metadata": {
    "tags": []
   },
   "outputs": [],
   "source": [
    "df = df.explode(index_parts=False).reset_index()"
   ]
  },
  {
   "cell_type": "code",
   "execution_count": 25,
   "id": "c5e8537c-69c0-4542-bb17-e51b81ba67bb",
   "metadata": {
    "tags": []
   },
   "outputs": [
    {
     "data": {
      "text/plain": [
       "0      Polygon\n",
       "1      Polygon\n",
       "2      Polygon\n",
       "3      Polygon\n",
       "4      Polygon\n",
       "        ...   \n",
       "476    Polygon\n",
       "477    Polygon\n",
       "478    Polygon\n",
       "479    Polygon\n",
       "480    Polygon\n",
       "Length: 481, dtype: object"
      ]
     },
     "execution_count": 25,
     "metadata": {},
     "output_type": "execute_result"
    }
   ],
   "source": [
    "df.geom_type"
   ]
  },
  {
   "cell_type": "code",
   "execution_count": 29,
   "id": "edada137-59a0-4abf-a7af-17f84c1a8563",
   "metadata": {
    "tags": []
   },
   "outputs": [
    {
     "name": "stdout",
     "output_type": "stream",
     "text": [
      "All features are polygons\n"
     ]
    }
   ],
   "source": [
    "check_polygons(df)"
   ]
  },
  {
   "cell_type": "markdown",
   "id": "248b87ca-d015-436e-abb0-d8d3fbbeeca3",
   "metadata": {},
   "source": [
    "## Compute minimum y-coordinate for polygons"
   ]
  },
  {
   "cell_type": "code",
   "execution_count": 31,
   "id": "834782f5-2336-400d-b0d4-8d5e98ceef5d",
   "metadata": {
    "tags": []
   },
   "outputs": [
    {
     "data": {
      "text/plain": [
       "geopandas.geodataframe.GeoDataFrame"
      ]
     },
     "execution_count": 31,
     "metadata": {},
     "output_type": "execute_result"
    }
   ],
   "source": [
    "type(df.iloc[[0]])\n",
    "\n",
    "# Doing double brackets makes it a list of a list (dataframe)"
   ]
  },
  {
   "cell_type": "code",
   "execution_count": 32,
   "id": "7deff64d-7ecc-4530-9303-95b92e066a7b",
   "metadata": {
    "tags": []
   },
   "outputs": [
    {
     "data": {
      "text/plain": [
       "0    POLYGON ((-132.74687 56.52568, -132.75762 56.5...\n",
       "Name: geometry, dtype: geometry"
      ]
     },
     "execution_count": 32,
     "metadata": {},
     "output_type": "execute_result"
    }
   ],
   "source": [
    "df.iloc[[0]]['geometry']"
   ]
  },
  {
   "cell_type": "code",
   "execution_count": 33,
   "id": "a2673270-bec6-4903-98f6-12c4a98a0961",
   "metadata": {
    "tags": []
   },
   "outputs": [
    {
     "data": {
      "text/plain": [
       "geopandas.geoseries.GeoSeries"
      ]
     },
     "execution_count": 33,
     "metadata": {},
     "output_type": "execute_result"
    }
   ],
   "source": [
    "type(df.iloc[[0]]['geometry'])"
   ]
  },
  {
   "cell_type": "code",
   "execution_count": 38,
   "id": "9f90d113-cb57-48db-8b0c-d42d654ad077",
   "metadata": {
    "tags": []
   },
   "outputs": [
    {
     "data": {
      "text/plain": [
       "0    56.511035\n",
       "Name: miny, dtype: float64"
      ]
     },
     "execution_count": 38,
     "metadata": {},
     "output_type": "execute_result"
    }
   ],
   "source": [
    "df.iloc[[0]]['geometry'].bounds[\"miny\"]"
   ]
  },
  {
   "cell_type": "code",
   "execution_count": 39,
   "id": "54afd43d-3e94-484c-895a-b5e446b05779",
   "metadata": {
    "tags": []
   },
   "outputs": [],
   "source": [
    "def min_y(geodf_row):\n",
    "    return geodf_row.geometry.bounds[1]"
   ]
  },
  {
   "cell_type": "code",
   "execution_count": 41,
   "id": "66f45534-d36d-49f1-b4fe-757f1f56a438",
   "metadata": {
    "tags": []
   },
   "outputs": [
    {
     "data": {
      "text/html": [
       "<div>\n",
       "<style scoped>\n",
       "    .dataframe tbody tr th:only-of-type {\n",
       "        vertical-align: middle;\n",
       "    }\n",
       "\n",
       "    .dataframe tbody tr th {\n",
       "        vertical-align: top;\n",
       "    }\n",
       "\n",
       "    .dataframe thead th {\n",
       "        text-align: right;\n",
       "    }\n",
       "</style>\n",
       "<table border=\"1\" class=\"dataframe\">\n",
       "  <thead>\n",
       "    <tr style=\"text-align: right;\">\n",
       "      <th></th>\n",
       "      <th>index</th>\n",
       "      <th>admin</th>\n",
       "      <th>country</th>\n",
       "      <th>n_communities</th>\n",
       "      <th>geometry</th>\n",
       "      <th>miny</th>\n",
       "    </tr>\n",
       "  </thead>\n",
       "  <tbody>\n",
       "    <tr>\n",
       "      <th>0</th>\n",
       "      <td>0</td>\n",
       "      <td>United States of America</td>\n",
       "      <td>US</td>\n",
       "      <td>115</td>\n",
       "      <td>POLYGON ((-132.74687 56.52568, -132.75762 56.5...</td>\n",
       "      <td>56.511035</td>\n",
       "    </tr>\n",
       "    <tr>\n",
       "      <th>1</th>\n",
       "      <td>0</td>\n",
       "      <td>United States of America</td>\n",
       "      <td>US</td>\n",
       "      <td>115</td>\n",
       "      <td>POLYGON ((-132.77988 56.24727, -132.83096 56.2...</td>\n",
       "      <td>56.244141</td>\n",
       "    </tr>\n",
       "    <tr>\n",
       "      <th>2</th>\n",
       "      <td>0</td>\n",
       "      <td>United States of America</td>\n",
       "      <td>US</td>\n",
       "      <td>115</td>\n",
       "      <td>POLYGON ((-134.31274 58.22891, -134.31987 58.2...</td>\n",
       "      <td>58.204102</td>\n",
       "    </tr>\n",
       "    <tr>\n",
       "      <th>3</th>\n",
       "      <td>0</td>\n",
       "      <td>United States of America</td>\n",
       "      <td>US</td>\n",
       "      <td>115</td>\n",
       "      <td>POLYGON ((-145.11851 60.33711, -145.15049 60.3...</td>\n",
       "      <td>60.312646</td>\n",
       "    </tr>\n",
       "    <tr>\n",
       "      <th>4</th>\n",
       "      <td>0</td>\n",
       "      <td>United States of America</td>\n",
       "      <td>US</td>\n",
       "      <td>115</td>\n",
       "      <td>POLYGON ((-144.56563 59.81841, -144.61357 59.8...</td>\n",
       "      <td>59.812646</td>\n",
       "    </tr>\n",
       "    <tr>\n",
       "      <th>...</th>\n",
       "      <td>...</td>\n",
       "      <td>...</td>\n",
       "      <td>...</td>\n",
       "      <td>...</td>\n",
       "      <td>...</td>\n",
       "      <td>...</td>\n",
       "    </tr>\n",
       "    <tr>\n",
       "      <th>476</th>\n",
       "      <td>13</td>\n",
       "      <td>Canada</td>\n",
       "      <td>CA</td>\n",
       "      <td>7</td>\n",
       "      <td>POLYGON ((-109.16641 67.98237, -109.05391 67.9...</td>\n",
       "      <td>67.878809</td>\n",
       "    </tr>\n",
       "    <tr>\n",
       "      <th>477</th>\n",
       "      <td>13</td>\n",
       "      <td>Canada</td>\n",
       "      <td>CA</td>\n",
       "      <td>7</td>\n",
       "      <td>POLYGON ((-108.09272 67.00518, -107.96646 66.9...</td>\n",
       "      <td>66.857812</td>\n",
       "    </tr>\n",
       "    <tr>\n",
       "      <th>478</th>\n",
       "      <td>13</td>\n",
       "      <td>Canada</td>\n",
       "      <td>CA</td>\n",
       "      <td>7</td>\n",
       "      <td>POLYGON ((-109.32314 67.99087, -109.36084 67.9...</td>\n",
       "      <td>67.987598</td>\n",
       "    </tr>\n",
       "    <tr>\n",
       "      <th>479</th>\n",
       "      <td>13</td>\n",
       "      <td>Canada</td>\n",
       "      <td>CA</td>\n",
       "      <td>7</td>\n",
       "      <td>POLYGON ((-139.04312 69.57690, -139.12573 69.5...</td>\n",
       "      <td>69.539307</td>\n",
       "    </tr>\n",
       "    <tr>\n",
       "      <th>480</th>\n",
       "      <td>14</td>\n",
       "      <td>Belarus</td>\n",
       "      <td>BY</td>\n",
       "      <td>8</td>\n",
       "      <td>POLYGON ((31.76338 52.10107, 31.57373 52.10811...</td>\n",
       "      <td>51.265039</td>\n",
       "    </tr>\n",
       "  </tbody>\n",
       "</table>\n",
       "<p>481 rows × 6 columns</p>\n",
       "</div>"
      ],
      "text/plain": [
       "     index                     admin country  n_communities  \\\n",
       "0        0  United States of America      US            115   \n",
       "1        0  United States of America      US            115   \n",
       "2        0  United States of America      US            115   \n",
       "3        0  United States of America      US            115   \n",
       "4        0  United States of America      US            115   \n",
       "..     ...                       ...     ...            ...   \n",
       "476     13                    Canada      CA              7   \n",
       "477     13                    Canada      CA              7   \n",
       "478     13                    Canada      CA              7   \n",
       "479     13                    Canada      CA              7   \n",
       "480     14                   Belarus      BY              8   \n",
       "\n",
       "                                              geometry       miny  \n",
       "0    POLYGON ((-132.74687 56.52568, -132.75762 56.5...  56.511035  \n",
       "1    POLYGON ((-132.77988 56.24727, -132.83096 56.2...  56.244141  \n",
       "2    POLYGON ((-134.31274 58.22891, -134.31987 58.2...  58.204102  \n",
       "3    POLYGON ((-145.11851 60.33711, -145.15049 60.3...  60.312646  \n",
       "4    POLYGON ((-144.56563 59.81841, -144.61357 59.8...  59.812646  \n",
       "..                                                 ...        ...  \n",
       "476  POLYGON ((-109.16641 67.98237, -109.05391 67.9...  67.878809  \n",
       "477  POLYGON ((-108.09272 67.00518, -107.96646 66.9...  66.857812  \n",
       "478  POLYGON ((-109.32314 67.99087, -109.36084 67.9...  67.987598  \n",
       "479  POLYGON ((-139.04312 69.57690, -139.12573 69.5...  69.539307  \n",
       "480  POLYGON ((31.76338 52.10107, 31.57373 52.10811...  51.265039  \n",
       "\n",
       "[481 rows x 6 columns]"
      ]
     },
     "execution_count": 41,
     "metadata": {},
     "output_type": "execute_result"
    }
   ],
   "source": [
    "df[\"miny\"] = df.apply(min_y, axis=1)\n",
    "\n",
    "df"
   ]
  },
  {
   "cell_type": "code",
   "execution_count": 42,
   "id": "1a49a96a-1f7b-404d-8f01-2e3b29e90c28",
   "metadata": {
    "tags": []
   },
   "outputs": [
    {
     "data": {
      "text/plain": [
       "<Axes: >"
      ]
     },
     "execution_count": 42,
     "metadata": {},
     "output_type": "execute_result"
    },
    {
     "data": {
      "image/png": "[encoded data removed]",
      "text/plain": [
       "<Figure size 640x480 with 1 Axes>"
      ]
     },
     "metadata": {},
     "output_type": "display_data"
    }
   ],
   "source": [
    "df[df['miny'] >=40]\n",
    "\n",
    "df = df[df['miny'] >= 40].to_crs('EPSG:3413')\n",
    "df.plot()"
   ]
  }
 ],
 "metadata": {
  "kernelspec": {
   "display_name": "Anaconda 3 (EDS220)",
   "language": "python",
   "name": "eds220-env"
  },
  "language_info": {
   "codemirror_mode": {
    "name": "ipython",
    "version": 3
   },
   "file_extension": ".py",
   "mimetype": "text/x-python",
   "name": "python",
   "nbconvert_exporter": "python",
   "pygments_lexer": "ipython3",
   "version": "3.11.4"
  }
 },
 "nbformat": 4,
 "nbformat_minor": 5
}
