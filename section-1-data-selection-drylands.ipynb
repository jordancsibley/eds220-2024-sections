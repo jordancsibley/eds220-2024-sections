{
 "cells": [
  {
   "cell_type": "markdown",
   "id": "4faf8bec-f3af-406e-abd4-ed907b3484a6",
   "metadata": {},
   "source": [
    "# Week 1 - Dicussion Section \n",
    "### Preliminary data exploration with `pandas`\n",
    "\n",
    "Date: 10/03/2024\n",
    "Jordan Sibley "
   ]
  }
 ],
 "metadata": {
  "kernelspec": {
   "display_name": "Anaconda 3 (Base)",
   "language": "python",
   "name": "base"
  },
  "language_info": {
   "codemirror_mode": {
    "name": "ipython",
    "version": 3
   },
   "file_extension": ".py",
   "mimetype": "text/x-python",
   "name": "python",
   "nbconvert_exporter": "python",
   "pygments_lexer": "ipython3",
   "version": "3.9.13"
  }
 },
 "nbformat": 4,
 "nbformat_minor": 5
}
