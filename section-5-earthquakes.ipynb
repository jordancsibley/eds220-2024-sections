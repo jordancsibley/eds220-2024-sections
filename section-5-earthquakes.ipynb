{
 "cells": [
  {
   "cell_type": "markdown",
   "id": "397e0b14-7a7b-435e-908b-28789edb0430",
   "metadata": {},
   "source": [
    "# Plotting geospatial data\n",
    "\n",
    "### Week 5 - Discussion section\n",
    "\n",
    "Date: 2024-10-31"
   ]
  },
  {
   "cell_type": "markdown",
   "id": "ed6cd649-1c88-4345-9933-29ebe013bf99",
   "metadata": {},
   "source": [
    "## Set Up "
   ]
  },
  {
   "cell_type": "code",
   "execution_count": 35,
   "id": "fe4e09bd-526e-4fed-9808-6b4190bda5f7",
   "metadata": {
    "tags": []
   },
   "outputs": [],
   "source": [
    "# Import libraries \n",
    "import pandas as pd \n",
    "import numpy as np\n",
    "import geopandas as gpd\n",
    "import os\n",
    "from shapely.geometry import Point\n",
    "import matplotlib.pyplot as plt"
   ]
  },
  {
   "cell_type": "code",
   "execution_count": 43,
   "id": "8cc212ab-efc3-456b-a52e-a060f1900335",
   "metadata": {
    "tags": []
   },
   "outputs": [
    {
     "data": {
      "text/html": [
       "<div>\n",
       "<style scoped>\n",
       "    .dataframe tbody tr th:only-of-type {\n",
       "        vertical-align: middle;\n",
       "    }\n",
       "\n",
       "    .dataframe tbody tr th {\n",
       "        vertical-align: top;\n",
       "    }\n",
       "\n",
       "    .dataframe thead th {\n",
       "        text-align: right;\n",
       "    }\n",
       "</style>\n",
       "<table border=\"1\" class=\"dataframe\">\n",
       "  <thead>\n",
       "    <tr style=\"text-align: right;\">\n",
       "      <th></th>\n",
       "      <th>time</th>\n",
       "      <th>latitude</th>\n",
       "      <th>longitude</th>\n",
       "      <th>depth</th>\n",
       "      <th>mag</th>\n",
       "      <th>id</th>\n",
       "      <th>place</th>\n",
       "      <th>type</th>\n",
       "    </tr>\n",
       "  </thead>\n",
       "  <tbody>\n",
       "    <tr>\n",
       "      <th>0</th>\n",
       "      <td>2014-01-31 23:53:37.000</td>\n",
       "      <td>60.2520</td>\n",
       "      <td>-152.7081</td>\n",
       "      <td>90.2</td>\n",
       "      <td>1.10</td>\n",
       "      <td>ak11155107</td>\n",
       "      <td>26km S of Redoubt Volcano, Alaska</td>\n",
       "      <td>earthquake</td>\n",
       "    </tr>\n",
       "    <tr>\n",
       "      <th>1</th>\n",
       "      <td>2014-01-31 23:48:35.452</td>\n",
       "      <td>37.0703</td>\n",
       "      <td>-115.1309</td>\n",
       "      <td>0.0</td>\n",
       "      <td>1.33</td>\n",
       "      <td>nn00436847</td>\n",
       "      <td>32km S of Alamo, Nevada</td>\n",
       "      <td>earthquake</td>\n",
       "    </tr>\n",
       "  </tbody>\n",
       "</table>\n",
       "</div>"
      ],
      "text/plain": [
       "                      time  latitude  longitude  depth   mag          id  \\\n",
       "0  2014-01-31 23:53:37.000   60.2520  -152.7081   90.2  1.10  ak11155107   \n",
       "1  2014-01-31 23:48:35.452   37.0703  -115.1309    0.0  1.33  nn00436847   \n",
       "\n",
       "                               place        type  \n",
       "0  26km S of Redoubt Volcano, Alaska  earthquake  \n",
       "1            32km S of Alamo, Nevada  earthquake  "
      ]
     },
     "execution_count": 43,
     "metadata": {},
     "output_type": "execute_result"
    }
   ],
   "source": [
    "# Read in data \n",
    "filepath = '/Users/jcsibley/MEDS/eds-220/eds220-2024-sections/data/earthquake_data.csv'\n",
    "earthquakes = pd.read_csv(filepath)\n",
    "\n",
    "\n",
    "fp = os.path.join('/Users/jcsibley/MEDS/eds-220/eds220-2024-sections/data/ne_110m_admin_0_countries.shp')\n",
    "worldmap = gpd.read_file(fp)\n",
    "\n",
    "# View head of earthquake data \n",
    "earthquakes.head(2)"
   ]
  },
  {
   "cell_type": "code",
   "execution_count": 44,
   "id": "49a42322-0a61-4d60-a67a-6fe41d5cee3f",
   "metadata": {
    "tags": []
   },
   "outputs": [
    {
     "data": {
      "text/html": [
       "<div>\n",
       "<style scoped>\n",
       "    .dataframe tbody tr th:only-of-type {\n",
       "        vertical-align: middle;\n",
       "    }\n",
       "\n",
       "    .dataframe tbody tr th {\n",
       "        vertical-align: top;\n",
       "    }\n",
       "\n",
       "    .dataframe thead th {\n",
       "        text-align: right;\n",
       "    }\n",
       "</style>\n",
       "<table border=\"1\" class=\"dataframe\">\n",
       "  <thead>\n",
       "    <tr style=\"text-align: right;\">\n",
       "      <th></th>\n",
       "      <th>featurecla</th>\n",
       "      <th>scalerank</th>\n",
       "      <th>LABELRANK</th>\n",
       "      <th>SOVEREIGNT</th>\n",
       "      <th>SOV_A3</th>\n",
       "      <th>ADM0_DIF</th>\n",
       "      <th>LEVEL</th>\n",
       "      <th>TYPE</th>\n",
       "      <th>TLC</th>\n",
       "      <th>ADMIN</th>\n",
       "      <th>...</th>\n",
       "      <th>FCLASS_TR</th>\n",
       "      <th>FCLASS_ID</th>\n",
       "      <th>FCLASS_PL</th>\n",
       "      <th>FCLASS_GR</th>\n",
       "      <th>FCLASS_IT</th>\n",
       "      <th>FCLASS_NL</th>\n",
       "      <th>FCLASS_SE</th>\n",
       "      <th>FCLASS_BD</th>\n",
       "      <th>FCLASS_UA</th>\n",
       "      <th>geometry</th>\n",
       "    </tr>\n",
       "  </thead>\n",
       "  <tbody>\n",
       "    <tr>\n",
       "      <th>0</th>\n",
       "      <td>Admin-0 country</td>\n",
       "      <td>1</td>\n",
       "      <td>6</td>\n",
       "      <td>Fiji</td>\n",
       "      <td>FJI</td>\n",
       "      <td>0</td>\n",
       "      <td>2</td>\n",
       "      <td>Sovereign country</td>\n",
       "      <td>1</td>\n",
       "      <td>Fiji</td>\n",
       "      <td>...</td>\n",
       "      <td>None</td>\n",
       "      <td>None</td>\n",
       "      <td>None</td>\n",
       "      <td>None</td>\n",
       "      <td>None</td>\n",
       "      <td>None</td>\n",
       "      <td>None</td>\n",
       "      <td>None</td>\n",
       "      <td>None</td>\n",
       "      <td>MULTIPOLYGON (((180.00000 -16.06713, 180.00000...</td>\n",
       "    </tr>\n",
       "    <tr>\n",
       "      <th>1</th>\n",
       "      <td>Admin-0 country</td>\n",
       "      <td>1</td>\n",
       "      <td>3</td>\n",
       "      <td>United Republic of Tanzania</td>\n",
       "      <td>TZA</td>\n",
       "      <td>0</td>\n",
       "      <td>2</td>\n",
       "      <td>Sovereign country</td>\n",
       "      <td>1</td>\n",
       "      <td>United Republic of Tanzania</td>\n",
       "      <td>...</td>\n",
       "      <td>None</td>\n",
       "      <td>None</td>\n",
       "      <td>None</td>\n",
       "      <td>None</td>\n",
       "      <td>None</td>\n",
       "      <td>None</td>\n",
       "      <td>None</td>\n",
       "      <td>None</td>\n",
       "      <td>None</td>\n",
       "      <td>POLYGON ((33.90371 -0.95000, 34.07262 -1.05982...</td>\n",
       "    </tr>\n",
       "    <tr>\n",
       "      <th>2</th>\n",
       "      <td>Admin-0 country</td>\n",
       "      <td>1</td>\n",
       "      <td>7</td>\n",
       "      <td>Western Sahara</td>\n",
       "      <td>SAH</td>\n",
       "      <td>0</td>\n",
       "      <td>2</td>\n",
       "      <td>Indeterminate</td>\n",
       "      <td>1</td>\n",
       "      <td>Western Sahara</td>\n",
       "      <td>...</td>\n",
       "      <td>Unrecognized</td>\n",
       "      <td>Unrecognized</td>\n",
       "      <td>Unrecognized</td>\n",
       "      <td>None</td>\n",
       "      <td>None</td>\n",
       "      <td>Unrecognized</td>\n",
       "      <td>None</td>\n",
       "      <td>None</td>\n",
       "      <td>None</td>\n",
       "      <td>POLYGON ((-8.66559 27.65643, -8.66512 27.58948...</td>\n",
       "    </tr>\n",
       "    <tr>\n",
       "      <th>3</th>\n",
       "      <td>Admin-0 country</td>\n",
       "      <td>1</td>\n",
       "      <td>2</td>\n",
       "      <td>Canada</td>\n",
       "      <td>CAN</td>\n",
       "      <td>0</td>\n",
       "      <td>2</td>\n",
       "      <td>Sovereign country</td>\n",
       "      <td>1</td>\n",
       "      <td>Canada</td>\n",
       "      <td>...</td>\n",
       "      <td>None</td>\n",
       "      <td>None</td>\n",
       "      <td>None</td>\n",
       "      <td>None</td>\n",
       "      <td>None</td>\n",
       "      <td>None</td>\n",
       "      <td>None</td>\n",
       "      <td>None</td>\n",
       "      <td>None</td>\n",
       "      <td>MULTIPOLYGON (((-122.84000 49.00000, -122.9742...</td>\n",
       "    </tr>\n",
       "    <tr>\n",
       "      <th>4</th>\n",
       "      <td>Admin-0 country</td>\n",
       "      <td>1</td>\n",
       "      <td>2</td>\n",
       "      <td>United States of America</td>\n",
       "      <td>US1</td>\n",
       "      <td>1</td>\n",
       "      <td>2</td>\n",
       "      <td>Country</td>\n",
       "      <td>1</td>\n",
       "      <td>United States of America</td>\n",
       "      <td>...</td>\n",
       "      <td>None</td>\n",
       "      <td>None</td>\n",
       "      <td>None</td>\n",
       "      <td>None</td>\n",
       "      <td>None</td>\n",
       "      <td>None</td>\n",
       "      <td>None</td>\n",
       "      <td>None</td>\n",
       "      <td>None</td>\n",
       "      <td>MULTIPOLYGON (((-122.84000 49.00000, -120.0000...</td>\n",
       "    </tr>\n",
       "  </tbody>\n",
       "</table>\n",
       "<p>5 rows × 169 columns</p>\n",
       "</div>"
      ],
      "text/plain": [
       "        featurecla  scalerank  LABELRANK                   SOVEREIGNT SOV_A3  \\\n",
       "0  Admin-0 country          1          6                         Fiji    FJI   \n",
       "1  Admin-0 country          1          3  United Republic of Tanzania    TZA   \n",
       "2  Admin-0 country          1          7               Western Sahara    SAH   \n",
       "3  Admin-0 country          1          2                       Canada    CAN   \n",
       "4  Admin-0 country          1          2     United States of America    US1   \n",
       "\n",
       "   ADM0_DIF  LEVEL               TYPE TLC                        ADMIN  ...  \\\n",
       "0         0      2  Sovereign country   1                         Fiji  ...   \n",
       "1         0      2  Sovereign country   1  United Republic of Tanzania  ...   \n",
       "2         0      2      Indeterminate   1               Western Sahara  ...   \n",
       "3         0      2  Sovereign country   1                       Canada  ...   \n",
       "4         1      2            Country   1     United States of America  ...   \n",
       "\n",
       "      FCLASS_TR     FCLASS_ID     FCLASS_PL FCLASS_GR  FCLASS_IT  \\\n",
       "0          None          None          None      None       None   \n",
       "1          None          None          None      None       None   \n",
       "2  Unrecognized  Unrecognized  Unrecognized      None       None   \n",
       "3          None          None          None      None       None   \n",
       "4          None          None          None      None       None   \n",
       "\n",
       "      FCLASS_NL FCLASS_SE  FCLASS_BD FCLASS_UA  \\\n",
       "0          None      None       None      None   \n",
       "1          None      None       None      None   \n",
       "2  Unrecognized      None       None      None   \n",
       "3          None      None       None      None   \n",
       "4          None      None       None      None   \n",
       "\n",
       "                                            geometry  \n",
       "0  MULTIPOLYGON (((180.00000 -16.06713, 180.00000...  \n",
       "1  POLYGON ((33.90371 -0.95000, 34.07262 -1.05982...  \n",
       "2  POLYGON ((-8.66559 27.65643, -8.66512 27.58948...  \n",
       "3  MULTIPOLYGON (((-122.84000 49.00000, -122.9742...  \n",
       "4  MULTIPOLYGON (((-122.84000 49.00000, -120.0000...  \n",
       "\n",
       "[5 rows x 169 columns]"
      ]
     },
     "execution_count": 44,
     "metadata": {},
     "output_type": "execute_result"
    }
   ],
   "source": [
    "# View worldmap \n",
    "worldmap.head()"
   ]
  },
  {
   "cell_type": "markdown",
   "id": "3c347724-9f19-42a2-a56f-be58f79b3e11",
   "metadata": {},
   "source": [
    "## Filter earthquake "
   ]
  },
  {
   "cell_type": "code",
   "execution_count": 25,
   "id": "02fbded6-bb1a-4a3d-a7f6-861999016033",
   "metadata": {
    "tags": []
   },
   "outputs": [],
   "source": [
    "earthquakes = earthquakes[(earthquakes['mag'] >= 6.5) & (earthquakes['type'] == 'earthquake')]"
   ]
  },
  {
   "cell_type": "markdown",
   "id": "a757c0f8-10d5-4512-a262-84e7c613e77f",
   "metadata": {},
   "source": [
    "## Turn lat and long points into a geodataframe"
   ]
  },
  {
   "cell_type": "code",
   "execution_count": 26,
   "id": "2dbe4066-667b-4ace-bd5d-78ffb55e6afa",
   "metadata": {
    "tags": []
   },
   "outputs": [
    {
     "data": {
      "text/html": [
       "<div>\n",
       "<style scoped>\n",
       "    .dataframe tbody tr th:only-of-type {\n",
       "        vertical-align: middle;\n",
       "    }\n",
       "\n",
       "    .dataframe tbody tr th {\n",
       "        vertical-align: top;\n",
       "    }\n",
       "\n",
       "    .dataframe thead th {\n",
       "        text-align: right;\n",
       "    }\n",
       "</style>\n",
       "<table border=\"1\" class=\"dataframe\">\n",
       "  <thead>\n",
       "    <tr style=\"text-align: right;\">\n",
       "      <th></th>\n",
       "      <th>time</th>\n",
       "      <th>latitude</th>\n",
       "      <th>longitude</th>\n",
       "      <th>depth</th>\n",
       "      <th>mag</th>\n",
       "      <th>id</th>\n",
       "      <th>place</th>\n",
       "      <th>type</th>\n",
       "      <th>coordinates</th>\n",
       "    </tr>\n",
       "  </thead>\n",
       "  <tbody>\n",
       "    <tr>\n",
       "      <th>9062</th>\n",
       "      <td>2014-01-01 16:03:29.000</td>\n",
       "      <td>-13.8633</td>\n",
       "      <td>167.2490</td>\n",
       "      <td>187.00</td>\n",
       "      <td>6.5</td>\n",
       "      <td>usc000lvb5</td>\n",
       "      <td>32km W of Sola, Vanuatu</td>\n",
       "      <td>earthquake</td>\n",
       "      <td>(167.24900000000002, -13.8633)</td>\n",
       "    </tr>\n",
       "    <tr>\n",
       "      <th>12142</th>\n",
       "      <td>2014-02-18 09:27:13.120</td>\n",
       "      <td>14.6682</td>\n",
       "      <td>-58.9272</td>\n",
       "      <td>14.83</td>\n",
       "      <td>6.5</td>\n",
       "      <td>usc000mskt</td>\n",
       "      <td>172km NNE of Bathsheba, Barbados</td>\n",
       "      <td>earthquake</td>\n",
       "      <td>(-58.9272, 14.6682)</td>\n",
       "    </tr>\n",
       "    <tr>\n",
       "      <th>14025</th>\n",
       "      <td>2014-02-12 09:19:49.060</td>\n",
       "      <td>35.9053</td>\n",
       "      <td>82.5864</td>\n",
       "      <td>10.00</td>\n",
       "      <td>6.9</td>\n",
       "      <td>usc000mnvj</td>\n",
       "      <td>272km ESE of Hotan, China</td>\n",
       "      <td>earthquake</td>\n",
       "      <td>(82.5864, 35.9053)</td>\n",
       "    </tr>\n",
       "  </tbody>\n",
       "</table>\n",
       "</div>"
      ],
      "text/plain": [
       "                          time  latitude  longitude   depth  mag          id  \\\n",
       "9062   2014-01-01 16:03:29.000  -13.8633   167.2490  187.00  6.5  usc000lvb5   \n",
       "12142  2014-02-18 09:27:13.120   14.6682   -58.9272   14.83  6.5  usc000mskt   \n",
       "14025  2014-02-12 09:19:49.060   35.9053    82.5864   10.00  6.9  usc000mnvj   \n",
       "\n",
       "                                  place        type  \\\n",
       "9062            32km W of Sola, Vanuatu  earthquake   \n",
       "12142  172km NNE of Bathsheba, Barbados  earthquake   \n",
       "14025         272km ESE of Hotan, China  earthquake   \n",
       "\n",
       "                          coordinates  \n",
       "9062   (167.24900000000002, -13.8633)  \n",
       "12142             (-58.9272, 14.6682)  \n",
       "14025              (82.5864, 35.9053)  "
      ]
     },
     "execution_count": 26,
     "metadata": {},
     "output_type": "execute_result"
    }
   ],
   "source": [
    "# Using lat and long create coordinates column \n",
    "earthquakes['coordinates'] = list(zip(earthquakes.longitude, earthquakes.latitude))\n",
    "\n",
    "# View that it worked \n",
    "earthquakes.head(3)"
   ]
  },
  {
   "cell_type": "code",
   "execution_count": 27,
   "id": "7e5897ce-c244-47e4-a493-2c50902ce2ea",
   "metadata": {
    "tags": []
   },
   "outputs": [],
   "source": [
    "# Transform tuples to Point \n",
    "\n",
    "earthquakes['coordinates'] = earthquakes['coordinates'].apply(Point)"
   ]
  },
  {
   "cell_type": "code",
   "execution_count": 30,
   "id": "0c24ccf1-4f6b-414d-b658-e0c434f57897",
   "metadata": {
    "tags": []
   },
   "outputs": [],
   "source": [
    "# Create geodata frame \n",
    "\n",
    "earthquake_gdf = gpd.GeoDataFrame(earthquakes, geometry = 'coordinates', crs='EPSG:4326')"
   ]
  },
  {
   "cell_type": "code",
   "execution_count": 31,
   "id": "d299246d-ef6d-45dc-9837-283d31de29aa",
   "metadata": {
    "tags": []
   },
   "outputs": [
    {
     "name": "stdout",
     "output_type": "stream",
     "text": [
      "                          time  latitude  longitude   depth  mag          id  \\\n",
      "9062   2014-01-01 16:03:29.000  -13.8633   167.2490  187.00  6.5  usc000lvb5   \n",
      "12142  2014-02-18 09:27:13.120   14.6682   -58.9272   14.83  6.5  usc000mskt   \n",
      "14025  2014-02-12 09:19:49.060   35.9053    82.5864   10.00  6.9  usc000mnvj   \n",
      "15979  2014-02-07 08:40:13.550  -15.0691   167.3721  122.00  6.5  usc000mjye   \n",
      "17606  2014-02-02 09:26:37.820  -32.9076  -177.8806   44.26  6.5  usc000mfm0   \n",
      "\n",
      "                                            place        type  \\\n",
      "9062                      32km W of Sola, Vanuatu  earthquake   \n",
      "12142            172km NNE of Bathsheba, Barbados  earthquake   \n",
      "14025                   272km ESE of Hotan, China  earthquake   \n",
      "15979                34km E of Port-Olry, Vanuatu  earthquake   \n",
      "17606  189km SSE of L'Esperance Rock, New Zealand  earthquake   \n",
      "\n",
      "                        coordinates  \n",
      "9062    POINT (167.24900 -13.86330)  \n",
      "12142    POINT (-58.92720 14.66820)  \n",
      "14025     POINT (82.58640 35.90530)  \n",
      "15979   POINT (167.37210 -15.06910)  \n",
      "17606  POINT (-177.88060 -32.90760)  \n"
     ]
    }
   ],
   "source": [
    "# View the geodataframe \n",
    "print(earthquake_gdf.head())"
   ]
  },
  {
   "cell_type": "markdown",
   "id": "ca78f781-0f6a-4c7a-96b6-d27e0a23e8ef",
   "metadata": {},
   "source": [
    "## Plot it "
   ]
  },
  {
   "cell_type": "code",
   "execution_count": 32,
   "id": "0e53e3b0-c1f0-4d9b-bfed-be1455187f63",
   "metadata": {
    "tags": []
   },
   "outputs": [
    {
     "data": {
      "text/plain": [
       "<Axes: >"
      ]
     },
     "execution_count": 32,
     "metadata": {},
     "output_type": "execute_result"
    },
    {
     "data": {
      "image/png": "[encoded data removed]",
      "text/plain": [
       "<Figure size 640x480 with 1 Axes>"
      ]
     },
     "metadata": {},
     "output_type": "display_data"
    }
   ],
   "source": [
    "# Simple plot of earthquake dots \n",
    "\n",
    "earthquake_gdf.plot(color = 'red')"
   ]
  },
  {
   "cell_type": "code",
   "execution_count": 47,
   "id": "e69ae651-e3a3-4b4d-b608-7a5a0b3492ff",
   "metadata": {
    "tags": []
   },
   "outputs": [
    {
     "data": {
      "text/plain": [
       "<Axes: title={'center': 'Earthquakes of magnitude at least 6.5 in 2014'}>"
      ]
     },
     "execution_count": 47,
     "metadata": {},
     "output_type": "execute_result"
    },
    {
     "data": {
      "image/png": "[encoded data removed]",
      "text/plain": [
       "<Figure size 1000x600 with 2 Axes>"
      ]
     },
     "metadata": {},
     "output_type": "display_data"
    }
   ],
   "source": [
    "fig, ax=plt.subplots(figsize = (10, 6))\n",
    "\n",
    "ax.axis('off')\n",
    "\n",
    "ax.set_title('Earthquakes of magnitude at least 6.5 in 2014', fontsize = 12)\n",
    "\n",
    "# Add countries \n",
    "worldmap.plot(ax = ax,\n",
    "             color = \"gray\",\n",
    "             edgecolor = 'none')\n",
    "\n",
    "# Add earthquakes \n",
    "earthquake_gdf.plot(ax = ax,\n",
    "                    column = 'mag',\n",
    "                    legend = True,\n",
    "                    edgecolor = 'black',\n",
    "                    markersize = 40,\n",
    "                    cmap = 'Oranges',\n",
    "                    legend_kwds = {'label': 'monent magnitude'})"
   ]
  },
  {
   "cell_type": "code",
   "execution_count": null,
   "id": "b23db2b7-7e70-44f8-a7a1-9cc6325bbbc2",
   "metadata": {},
   "outputs": [],
   "source": []
  }
 ],
 "metadata": {
  "kernelspec": {
   "display_name": "Anaconda 3 (EDS220)",
   "language": "python",
   "name": "eds220-env"
  },
  "language_info": {
   "codemirror_mode": {
    "name": "ipython",
    "version": 3
   },
   "file_extension": ".py",
   "mimetype": "text/x-python",
   "name": "python",
   "nbconvert_exporter": "python",
   "pygments_lexer": "ipython3",
   "version": "3.11.4"
  }
 },
 "nbformat": 4,
 "nbformat_minor": 5
}
