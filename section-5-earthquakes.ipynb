{
 "cells": [
  {
   "cell_type": "markdown",
   "id": "397e0b14-7a7b-435e-908b-28789edb0430",
   "metadata": {},
   "source": [
    "# Plotting geospatial data\n",
    "\n",
    "### Week 5 - Discussion section\n",
    "\n",
    "Date: 2024-10-31"
   ]
  },
  {
   "cell_type": "code",
   "execution_count": null,
   "id": "3df61e8e-a6fe-4592-aab7-fced179dc5f2",
   "metadata": {},
   "outputs": [],
   "source": []
  }
 ],
 "metadata": {
  "kernelspec": {
   "display_name": "Anaconda 3 (EDS220)",
   "language": "python",
   "name": "eds220-env"
  },
  "language_info": {
   "codemirror_mode": {
    "name": "ipython",
    "version": 3
   },
   "file_extension": ".py",
   "mimetype": "text/x-python",
   "name": "python",
   "nbconvert_exporter": "python",
   "pygments_lexer": "ipython3",
   "version": "3.11.4"
  }
 },
 "nbformat": 4,
 "nbformat_minor": 5
}
