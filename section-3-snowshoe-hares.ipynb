{
 "cells": [
  {
   "cell_type": "markdown",
   "id": "c8543a39-4612-46a3-bccb-22f7a32e9169",
   "metadata": {},
   "source": [
    "# Snowshoe hares at Bonanza Creek Experimental Forest\n",
    "\n",
    "### Week 3 - Discussion section\n",
    "\n",
    "[Link to instructions](https://meds-eds-220.github.io/MEDS-eds-220-course/discussion-sections/ds3-hares.html)\n",
    "\n",
    "Date: 2024-10-17\n",
    "\n",
    "## 1. Archive exploration \n",
    "\n",
    "Brief description: Data is about Snowshoe hares in the Bonanza Creek Experimental Forest. This species is a known keystone species in boreal forests. The study comprised of capture-recapture surveys at 5 locations in Tanana valley from the years 1999-06-01 to 2002-09-14. It was revealed that snowshoe hare densities decreased during this time frame. \n",
    "\n",
    "The data has columns that include location info and body measurements of the hares. \n",
    "\n",
    "\n",
    "Kielland, K., F.S. Chapin, R.W. Ruess, and Bonanza Creek LTER. 2017. Snowshoe hare physical data in Bonanza Creek Experimental Forest: 1999-Present ver 22. Environmental Data Initiative. https://doi.org/10.6073/pasta/03dce4856d79b91557d8e6ce2cbcdc14 (Accessed 2024-10-17).\n",
    " \n",
    "![Snowshoe hare image](https://meds-eds-220.github.io/MEDS-eds-220-course/discussion-sections/ds3-hares.html#:~:text=Go%20to-,this%20link,-.)"
   ]
  },
  {
   "cell_type": "code",
   "execution_count": null,
   "id": "1a02db9e-36b1-48a9-891c-d0666a491338",
   "metadata": {},
   "outputs": [],
   "source": []
  }
 ],
 "metadata": {
  "kernelspec": {
   "display_name": "Anaconda 3 (Base)",
   "language": "python",
   "name": "base"
  },
  "language_info": {
   "codemirror_mode": {
    "name": "ipython",
    "version": 3
   },
   "file_extension": ".py",
   "mimetype": "text/x-python",
   "name": "python",
   "nbconvert_exporter": "python",
   "pygments_lexer": "ipython3",
   "version": "3.9.13"
  }
 },
 "nbformat": 4,
 "nbformat_minor": 5
}
